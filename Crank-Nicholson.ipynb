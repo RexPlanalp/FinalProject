{
 "cells": [
  {
   "cell_type": "code",
   "execution_count": 46,
   "id": "badff25d",
   "metadata": {},
   "outputs": [],
   "source": [
    "import numpy as np \n",
    "import matplotlib.pyplot as plt\n",
    "from scipy import linalg\n",
    "from scipy import sparse\n",
    "from scipy.sparse.linalg import splu\n",
    "from matplotlib import animation"
   ]
  },
  {
   "cell_type": "code",
   "execution_count": 47,
   "id": "7f62eee3",
   "metadata": {},
   "outputs": [
    {
     "name": "stdout",
     "output_type": "stream",
     "text": [
      "20001\n",
      "101\n"
     ]
    }
   ],
   "source": [
    "# First we define the x and t spacing\n",
    "dx = 0.001\n",
    "dt = 0.01\n",
    "\n",
    "# Then we specify the range of x and t \n",
    "x_min = -10\n",
    "x_max = 10\n",
    "t_max = 1\n",
    "\n",
    "# Now we construct the x and t arrays\n",
    "x = np.arange(x_min,x_max+dx,dx)\n",
    "t = np.arange(0,t_max+dt,dt)\n",
    "\n",
    "N = len(x)\n",
    "J = len(t)\n",
    "print(N),print(J)\n",
    "# Now we define our initial wavefunction\n",
    "\n",
    "def psi(x,b = 0.5,p_0 = 10):\n",
    "    return np.sqrt(2*b)/np.sqrt(np.sqrt(2*np.pi)) * np.exp(1j*p_0*x)* np.exp(-(x)**2 *b**2)\n",
    "\n",
    "\n",
    "'''\n",
    "Now we define our potential \n",
    "'''\n",
    "def V(x):\n",
    "    vvals = []\n",
    "    for i in x:\n",
    "        if 2.99<= i<= 3:\n",
    "            vvals.append(6000)\n",
    "        else:\n",
    "            vvals.append(0)\n",
    "    return np.array(vvals)"
   ]
  },
  {
   "cell_type": "code",
   "execution_count": 48,
   "id": "0702194a",
   "metadata": {},
   "outputs": [],
   "source": [
    "'''\n",
    "We use the Crank-Nicholsom scheme to construct our propagator\n",
    "'''\n",
    "o = np.ones((N),complex)\n",
    "alp = (1j)*dt/(2*dx**2)*o # alpha from (3.11)\n",
    "xi = o + 1j*dt/2*(2/(dx**2)*o + V(x)) # xi from (3.11)\n",
    "diags = np.array([-1,0,+1]) # positions of the vectors in the matrix\n",
    "vecs1 = np.array([-alp,xi,-alp])\n",
    "U1 = sparse.spdiags(vecs1,diags,N,N) # create tridiagonal sparse matrix\n",
    "U1 = U1.tocsc() # convert to different sparse format needed for further calculation\n",
    "\n",
    "o2 = np.ones((N),complex)\n",
    "alp = (1j)*dt/(2*dx**2)*o # alpha from (3.11)\n",
    "gum = o - 1j*dt/2*(2/(dx**2)*o + V(x)) # xi from (3.11)\n",
    "diags = np.array([-1,0,+1]) # positions of the vectors in the matrix\n",
    "vecs2 = np.array([alp,gum,alp])\n",
    "U2 = sparse.spdiags(vecs2,diags,N,N) # create tridiagonal sparse matrix\n",
    "U2 = U2.tocsc() "
   ]
  },
  {
   "cell_type": "code",
   "execution_count": 52,
   "id": "c7577357",
   "metadata": {},
   "outputs": [
    {
     "name": "stdout",
     "output_type": "stream",
     "text": [
      "Done\n"
     ]
    }
   ],
   "source": [
    "PSI = np.zeros((N,J),complex)\n",
    "PSI[:,0] = psi(x)\n",
    "LU = splu(U1) # compute LU-decomposition of U1\n",
    "for n in range(0,J - 1): # loop over time-steps\n",
    "    b = U2.dot(PSI[:,n]) # right hand side of eq. (3.9)\n",
    "    PSI[:,n + 1] = LU.solve(b)\n",
    "print(\"Done\")"
   ]
  },
  {
   "cell_type": "code",
   "execution_count": 50,
   "id": "9547335b",
   "metadata": {},
   "outputs": [
    {
     "data": {
      "text/plain": [
       "[<matplotlib.lines.Line2D at 0x1bb96e87f10>]"
      ]
     },
     "execution_count": 50,
     "metadata": {},
     "output_type": "execute_result"
    },
    {
     "data": {
      "image/png": "[encoded data removed]",
      "text/plain": [
       "<Figure size 640x480 with 1 Axes>"
      ]
     },
     "metadata": {},
     "output_type": "display_data"
    }
   ],
   "source": []
  },
  {
   "cell_type": "code",
   "execution_count": null,
   "id": "0cf385bd",
   "metadata": {},
   "outputs": [],
   "source": []
  },
  {
   "cell_type": "code",
   "execution_count": null,
   "id": "d6837075",
   "metadata": {},
   "outputs": [],
   "source": []
  },
  {
   "cell_type": "code",
   "execution_count": null,
   "id": "b68167db",
   "metadata": {},
   "outputs": [],
   "source": []
  }
 ],
 "metadata": {
  "kernelspec": {
   "display_name": "Python 3 (ipykernel)",
   "language": "python",
   "name": "python3"
  },
  "language_info": {
   "codemirror_mode": {
    "name": "ipython",
    "version": 3
   },
   "file_extension": ".py",
   "mimetype": "text/x-python",
   "name": "python",
   "nbconvert_exporter": "python",
   "pygments_lexer": "ipython3",
   "version": "3.9.16"
  }
 },
 "nbformat": 4,
 "nbformat_minor": 5
}
